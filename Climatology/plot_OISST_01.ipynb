{
 "cells": [
  {
   "cell_type": "markdown",
   "source": [
    "### For OISST monthly"
   ],
   "metadata": {
    "collapsed": false
   },
   "id": "49dba01429530f9"
  },
  {
   "cell_type": "code",
   "execution_count": 1,
   "outputs": [],
   "source": [
    "import matplotlib.pyplot as plt\n",
    "plt.rcParams.update({'font.size': 8})\n",
    "import matplotlib.ticker as mticker\n",
    "import numpy as np\n",
    "import xarray as xr\n",
    "import cartopy as cp\n",
    "import cartopy.crs as ccrs\n",
    "from cartopy.mpl.gridliner import LONGITUDE_FORMATTER, LATITUDE_FORMATTER\n",
    "from lo_tools import Lfun\n",
    "Ldir = Lfun.Lstart()"
   ],
   "metadata": {
    "collapsed": false,
    "ExecuteTime": {
     "end_time": "2024-12-05T19:07:54.527651Z",
     "start_time": "2024-12-05T19:07:53.889237Z"
    }
   },
   "id": "eb860ea0e36b6f2f"
  },
  {
   "cell_type": "code",
   "execution_count": 2,
   "outputs": [],
   "source": [
    "temp_cmap = 'RdYlBu_r'"
   ],
   "metadata": {
    "collapsed": false,
    "ExecuteTime": {
     "end_time": "2024-12-05T19:07:59.892135Z",
     "start_time": "2024-12-05T19:07:59.888975Z"
    }
   },
   "id": "3e6a057ea5c2603f"
  },
  {
   "cell_type": "markdown",
   "source": [
    "### Load and Know data using xarray"
   ],
   "metadata": {
    "collapsed": false
   },
   "id": "f2fb474f1e1dc41c"
  },
  {
   "cell_type": "code",
   "execution_count": 3,
   "outputs": [
    {
     "name": "stderr",
     "output_type": "stream",
     "text": [
      "/home/julianc/anaconda3/envs/loenv/lib/python3.12/site-packages/xarray/coding/times.py:995: SerializationWarning: Unable to decode time axis into full numpy.datetime64 objects, continuing using cftime.datetime objects instead, reason: dates out of range\n",
      "  dtype = _decode_cf_datetime_dtype(data, units, calendar, self.use_cftime)\n",
      "/home/julianc/anaconda3/envs/loenv/lib/python3.12/site-packages/xarray/core/indexing.py:557: SerializationWarning: Unable to decode time axis into full numpy.datetime64 objects, continuing using cftime.datetime objects instead, reason: dates out of range\n",
      "  array = array.get_duck_array()\n"
     ]
    }
   ],
   "source": [
    "# input location\n",
    "type = 'climatology'\n",
    "folder = 'monthly'\n",
    "in_dir = Ldir['data'] / type / 'OISST2.1'\n",
    "# output location\n",
    "out_dir = Ldir['LOo'] / 'plots' / type\n",
    "Lfun.make_dir(out_dir, clean=False)\n",
    "# Define extracted daily (mean) file paths \n",
    "infile = in_dir/'sst.mon.ltm.1991-2020.nc'\n",
    "# Open the NetCDF file using xarray\n",
    "ds = xr.open_dataset(infile)"
   ],
   "metadata": {
    "collapsed": false,
    "ExecuteTime": {
     "end_time": "2024-12-05T19:08:02.311895Z",
     "start_time": "2024-12-05T19:08:02.037964Z"
    }
   },
   "id": "727b32c72374ab95"
  },
  {
   "cell_type": "code",
   "execution_count": 4,
   "outputs": [
    {
     "data": {
      "text/plain": "<xarray.Dataset> Size: 100MB\nDimensions:             (lat: 720, lon: 1440, time: 12, nbnds: 2)\nCoordinates:\n  * lat                 (lat) float32 3kB -89.88 -89.62 -89.38 ... 89.62 89.88\n  * lon                 (lon) float32 6kB 0.125 0.375 0.625 ... 359.6 359.9\n  * time                (time) object 96B 0001-01-01 00:00:00 ... 0001-12-01 ...\nDimensions without coordinates: nbnds\nData variables:\n    climatology_bounds  (time, nbnds) datetime64[ns] 192B ...\n    sst                 (time, lat, lon) float32 50MB ...\n    valid_yr_count      (time, lat, lon) float32 50MB ...\nAttributes:\n    Conventions:                    CF-1.5\n    title:                          NOAA/NCEI 1/4 Degree Daily Optimum Interp...\n    institution:                    NOAA/National Centers for Environmental I...\n    source:                         NOAA/NCEI https://www.ncei.noaa.gov/data/...\n    References:                     https://www.psl.noaa.gov/data/gridded/dat...\n    dataset_title:                  NOAA Daily Optimum Interpolation Sea Surf...\n    version:                        Version 2.1\n    comment:                        Reynolds, et al.(2007) Daily High-Resolut...\n    not_missing_threshold_percent:  minimum 3% values input to have non-missi...",
      "text/html": "<div><svg style=\"position: absolute; width: 0; height: 0; overflow: hidden\">\n<defs>\n<symbol id=\"icon-database\" viewBox=\"0 0 32 32\">\n<path d=\"M16 0c-8.837 0-16 2.239-16 5v4c0 2.761 7.163 5 16 5s16-2.239 16-5v-4c0-2.761-7.163-5-16-5z\"></path>\n<path d=\"M16 17c-8.837 0-16-2.239-16-5v6c0 2.761 7.163 5 16 5s16-2.239 16-5v-6c0 2.761-7.163 5-16 5z\"></path>\n<path d=\"M16 26c-8.837 0-16-2.239-16-5v6c0 2.761 7.163 5 16 5s16-2.239 16-5v-6c0 2.761-7.163 5-16 5z\"></path>\n</symbol>\n<symbol id=\"icon-file-text2\" viewBox=\"0 0 32 32\">\n<path d=\"M28.681 7.159c-0.694-0.947-1.662-2.053-2.724-3.116s-2.169-2.030-3.116-2.724c-1.612-1.182-2.393-1.319-2.841-1.319h-15.5c-1.378 0-2.5 1.121-2.5 2.5v27c0 1.378 1.122 2.5 2.5 2.5h23c1.378 0 2.5-1.122 2.5-2.5v-19.5c0-0.448-0.137-1.23-1.319-2.841zM24.543 5.457c0.959 0.959 1.712 1.825 2.268 2.543h-4.811v-4.811c0.718 0.556 1.584 1.309 2.543 2.268zM28 29.5c0 0.271-0.229 0.5-0.5 0.5h-23c-0.271 0-0.5-0.229-0.5-0.5v-27c0-0.271 0.229-0.5 0.5-0.5 0 0 15.499-0 15.5 0v7c0 0.552 0.448 1 1 1h7v19.5z\"></path>\n<path d=\"M23 26h-14c-0.552 0-1-0.448-1-1s0.448-1 1-1h14c0.552 0 1 0.448 1 1s-0.448 1-1 1z\"></path>\n<path d=\"M23 22h-14c-0.552 0-1-0.448-1-1s0.448-1 1-1h14c0.552 0 1 0.448 1 1s-0.448 1-1 1z\"></path>\n<path d=\"M23 18h-14c-0.552 0-1-0.448-1-1s0.448-1 1-1h14c0.552 0 1 0.448 1 1s-0.448 1-1 1z\"></path>\n</symbol>\n</defs>\n</svg>\n<style>/* CSS stylesheet for displaying xarray objects in jupyterlab.\n *\n */\n\n:root {\n  --xr-font-color0: var(--jp-content-font-color0, rgba(0, 0, 0, 1));\n  --xr-font-color2: var(--jp-content-font-color2, rgba(0, 0, 0, 0.54));\n  --xr-font-color3: var(--jp-content-font-color3, rgba(0, 0, 0, 0.38));\n  --xr-border-color: var(--jp-border-color2, #e0e0e0);\n  --xr-disabled-color: var(--jp-layout-color3, #bdbdbd);\n  --xr-background-color: var(--jp-layout-color0, white);\n  --xr-background-color-row-even: var(--jp-layout-color1, white);\n  --xr-background-color-row-odd: var(--jp-layout-color2, #eeeeee);\n}\n\nhtml[theme=dark],\nbody[data-theme=dark],\nbody.vscode-dark {\n  --xr-font-color0: rgba(255, 255, 255, 1);\n  --xr-font-color2: rgba(255, 255, 255, 0.54);\n  --xr-font-color3: rgba(255, 255, 255, 0.38);\n  --xr-border-color: #1F1F1F;\n  --xr-disabled-color: #515151;\n  --xr-background-color: #111111;\n  --xr-background-color-row-even: #111111;\n  --xr-background-color-row-odd: #313131;\n}\n\n.xr-wrap {\n  display: block !important;\n  min-width: 300px;\n  max-width: 700px;\n}\n\n.xr-text-repr-fallback {\n  /* fallback to plain text repr when CSS is not injected (untrusted notebook) */\n  display: none;\n}\n\n.xr-header {\n  padding-top: 6px;\n  padding-bottom: 6px;\n  margin-bottom: 4px;\n  border-bottom: solid 1px var(--xr-border-color);\n}\n\n.xr-header > div,\n.xr-header > ul {\n  display: inline;\n  margin-top: 0;\n  margin-bottom: 0;\n}\n\n.xr-obj-type,\n.xr-array-name {\n  margin-left: 2px;\n  margin-right: 10px;\n}\n\n.xr-obj-type {\n  color: var(--xr-font-color2);\n}\n\n.xr-sections {\n  padding-left: 0 !important;\n  display: grid;\n  grid-template-columns: 150px auto auto 1fr 20px 20px;\n}\n\n.xr-section-item {\n  display: contents;\n}\n\n.xr-section-item input {\n  display: none;\n}\n\n.xr-section-item input + label {\n  color: var(--xr-disabled-color);\n}\n\n.xr-section-item input:enabled + label {\n  cursor: pointer;\n  color: var(--xr-font-color2);\n}\n\n.xr-section-item input:enabled + label:hover {\n  color: var(--xr-font-color0);\n}\n\n.xr-section-summary {\n  grid-column: 1;\n  color: var(--xr-font-color2);\n  font-weight: 500;\n}\n\n.xr-section-summary > span {\n  display: inline-block;\n  padding-left: 0.5em;\n}\n\n.xr-section-summary-in:disabled + label {\n  color: var(--xr-font-color2);\n}\n\n.xr-section-summary-in + label:before {\n  display: inline-block;\n  content: '►';\n  font-size: 11px;\n  width: 15px;\n  text-align: center;\n}\n\n.xr-section-summary-in:disabled + label:before {\n  color: var(--xr-disabled-color);\n}\n\n.xr-section-summary-in:checked + label:before {\n  content: '▼';\n}\n\n.xr-section-summary-in:checked + label > span {\n  display: none;\n}\n\n.xr-section-summary,\n.xr-section-inline-details {\n  padding-top: 4px;\n  padding-bottom: 4px;\n}\n\n.xr-section-inline-details {\n  grid-column: 2 / -1;\n}\n\n.xr-section-details {\n  display: none;\n  grid-column: 1 / -1;\n  margin-bottom: 5px;\n}\n\n.xr-section-summary-in:checked ~ .xr-section-details {\n  display: contents;\n}\n\n.xr-array-wrap {\n  grid-column: 1 / -1;\n  display: grid;\n  grid-template-columns: 20px auto;\n}\n\n.xr-array-wrap > label {\n  grid-column: 1;\n  vertical-align: top;\n}\n\n.xr-preview {\n  color: var(--xr-font-color3);\n}\n\n.xr-array-preview,\n.xr-array-data {\n  padding: 0 5px !important;\n  grid-column: 2;\n}\n\n.xr-array-data,\n.xr-array-in:checked ~ .xr-array-preview {\n  display: none;\n}\n\n.xr-array-in:checked ~ .xr-array-data,\n.xr-array-preview {\n  display: inline-block;\n}\n\n.xr-dim-list {\n  display: inline-block !important;\n  list-style: none;\n  padding: 0 !important;\n  margin: 0;\n}\n\n.xr-dim-list li {\n  display: inline-block;\n  padding: 0;\n  margin: 0;\n}\n\n.xr-dim-list:before {\n  content: '(';\n}\n\n.xr-dim-list:after {\n  content: ')';\n}\n\n.xr-dim-list li:not(:last-child):after {\n  content: ',';\n  padding-right: 5px;\n}\n\n.xr-has-index {\n  font-weight: bold;\n}\n\n.xr-var-list,\n.xr-var-item {\n  display: contents;\n}\n\n.xr-var-item > div,\n.xr-var-item label,\n.xr-var-item > .xr-var-name span {\n  background-color: var(--xr-background-color-row-even);\n  margin-bottom: 0;\n}\n\n.xr-var-item > .xr-var-name:hover span {\n  padding-right: 5px;\n}\n\n.xr-var-list > li:nth-child(odd) > div,\n.xr-var-list > li:nth-child(odd) > label,\n.xr-var-list > li:nth-child(odd) > .xr-var-name span {\n  background-color: var(--xr-background-color-row-odd);\n}\n\n.xr-var-name {\n  grid-column: 1;\n}\n\n.xr-var-dims {\n  grid-column: 2;\n}\n\n.xr-var-dtype {\n  grid-column: 3;\n  text-align: right;\n  color: var(--xr-font-color2);\n}\n\n.xr-var-preview {\n  grid-column: 4;\n}\n\n.xr-index-preview {\n  grid-column: 2 / 5;\n  color: var(--xr-font-color2);\n}\n\n.xr-var-name,\n.xr-var-dims,\n.xr-var-dtype,\n.xr-preview,\n.xr-attrs dt {\n  white-space: nowrap;\n  overflow: hidden;\n  text-overflow: ellipsis;\n  padding-right: 10px;\n}\n\n.xr-var-name:hover,\n.xr-var-dims:hover,\n.xr-var-dtype:hover,\n.xr-attrs dt:hover {\n  overflow: visible;\n  width: auto;\n  z-index: 1;\n}\n\n.xr-var-attrs,\n.xr-var-data,\n.xr-index-data {\n  display: none;\n  background-color: var(--xr-background-color) !important;\n  padding-bottom: 5px !important;\n}\n\n.xr-var-attrs-in:checked ~ .xr-var-attrs,\n.xr-var-data-in:checked ~ .xr-var-data,\n.xr-index-data-in:checked ~ .xr-index-data {\n  display: block;\n}\n\n.xr-var-data > table {\n  float: right;\n}\n\n.xr-var-name span,\n.xr-var-data,\n.xr-index-name div,\n.xr-index-data,\n.xr-attrs {\n  padding-left: 25px !important;\n}\n\n.xr-attrs,\n.xr-var-attrs,\n.xr-var-data,\n.xr-index-data {\n  grid-column: 1 / -1;\n}\n\ndl.xr-attrs {\n  padding: 0;\n  margin: 0;\n  display: grid;\n  grid-template-columns: 125px auto;\n}\n\n.xr-attrs dt,\n.xr-attrs dd {\n  padding: 0;\n  margin: 0;\n  float: left;\n  padding-right: 10px;\n  width: auto;\n}\n\n.xr-attrs dt {\n  font-weight: normal;\n  grid-column: 1;\n}\n\n.xr-attrs dt:hover span {\n  display: inline-block;\n  background: var(--xr-background-color);\n  padding-right: 10px;\n}\n\n.xr-attrs dd {\n  grid-column: 2;\n  white-space: pre-wrap;\n  word-break: break-all;\n}\n\n.xr-icon-database,\n.xr-icon-file-text2,\n.xr-no-icon {\n  display: inline-block;\n  vertical-align: middle;\n  width: 1em;\n  height: 1.5em !important;\n  stroke-width: 0;\n  stroke: currentColor;\n  fill: currentColor;\n}\n</style><pre class='xr-text-repr-fallback'>&lt;xarray.Dataset&gt; Size: 100MB\nDimensions:             (lat: 720, lon: 1440, time: 12, nbnds: 2)\nCoordinates:\n  * lat                 (lat) float32 3kB -89.88 -89.62 -89.38 ... 89.62 89.88\n  * lon                 (lon) float32 6kB 0.125 0.375 0.625 ... 359.6 359.9\n  * time                (time) object 96B 0001-01-01 00:00:00 ... 0001-12-01 ...\nDimensions without coordinates: nbnds\nData variables:\n    climatology_bounds  (time, nbnds) datetime64[ns] 192B ...\n    sst                 (time, lat, lon) float32 50MB ...\n    valid_yr_count      (time, lat, lon) float32 50MB ...\nAttributes:\n    Conventions:                    CF-1.5\n    title:                          NOAA/NCEI 1/4 Degree Daily Optimum Interp...\n    institution:                    NOAA/National Centers for Environmental I...\n    source:                         NOAA/NCEI https://www.ncei.noaa.gov/data/...\n    References:                     https://www.psl.noaa.gov/data/gridded/dat...\n    dataset_title:                  NOAA Daily Optimum Interpolation Sea Surf...\n    version:                        Version 2.1\n    comment:                        Reynolds, et al.(2007) Daily High-Resolut...\n    not_missing_threshold_percent:  minimum 3% values input to have non-missi...</pre><div class='xr-wrap' style='display:none'><div class='xr-header'><div class='xr-obj-type'>xarray.Dataset</div></div><ul class='xr-sections'><li class='xr-section-item'><input id='section-f4e4c979-1878-4e5d-ae6d-437dc93222f5' class='xr-section-summary-in' type='checkbox' disabled ><label for='section-f4e4c979-1878-4e5d-ae6d-437dc93222f5' class='xr-section-summary'  title='Expand/collapse section'>Dimensions:</label><div class='xr-section-inline-details'><ul class='xr-dim-list'><li><span class='xr-has-index'>lat</span>: 720</li><li><span class='xr-has-index'>lon</span>: 1440</li><li><span class='xr-has-index'>time</span>: 12</li><li><span>nbnds</span>: 2</li></ul></div><div class='xr-section-details'></div></li><li class='xr-section-item'><input id='section-603967be-24dd-4cec-905c-75e8fe7a02e5' class='xr-section-summary-in' type='checkbox'  checked><label for='section-603967be-24dd-4cec-905c-75e8fe7a02e5' class='xr-section-summary' >Coordinates: <span>(3)</span></label><div class='xr-section-inline-details'></div><div class='xr-section-details'><ul class='xr-var-list'><li class='xr-var-item'><div class='xr-var-name'><span class='xr-has-index'>lat</span></div><div class='xr-var-dims'>(lat)</div><div class='xr-var-dtype'>float32</div><div class='xr-var-preview xr-preview'>-89.88 -89.62 ... 89.62 89.88</div><input id='attrs-08e45123-9a0c-461e-a797-278db1aacc59' class='xr-var-attrs-in' type='checkbox' ><label for='attrs-08e45123-9a0c-461e-a797-278db1aacc59' title='Show/Hide attributes'><svg class='icon xr-icon-file-text2'><use xlink:href='#icon-file-text2'></use></svg></label><input id='data-6529c82a-6ac4-4f67-8d96-9ffb65d2c0f6' class='xr-var-data-in' type='checkbox'><label for='data-6529c82a-6ac4-4f67-8d96-9ffb65d2c0f6' title='Show/Hide data repr'><svg class='icon xr-icon-database'><use xlink:href='#icon-database'></use></svg></label><div class='xr-var-attrs'><dl class='xr-attrs'><dt><span>long_name :</span></dt><dd>Latitude</dd><dt><span>standard_name :</span></dt><dd>latitude</dd><dt><span>units :</span></dt><dd>degrees_north</dd><dt><span>actual_range :</span></dt><dd>[-89.875  89.875]</dd><dt><span>axis :</span></dt><dd>Y</dd></dl></div><div class='xr-var-data'><pre>array([-89.875, -89.625, -89.375, ...,  89.375,  89.625,  89.875],\n      dtype=float32)</pre></div></li><li class='xr-var-item'><div class='xr-var-name'><span class='xr-has-index'>lon</span></div><div class='xr-var-dims'>(lon)</div><div class='xr-var-dtype'>float32</div><div class='xr-var-preview xr-preview'>0.125 0.375 0.625 ... 359.6 359.9</div><input id='attrs-99e9dee6-048f-4561-863c-a9face700466' class='xr-var-attrs-in' type='checkbox' ><label for='attrs-99e9dee6-048f-4561-863c-a9face700466' title='Show/Hide attributes'><svg class='icon xr-icon-file-text2'><use xlink:href='#icon-file-text2'></use></svg></label><input id='data-033f42b1-1324-4d9f-a08e-a8fc9bb87226' class='xr-var-data-in' type='checkbox'><label for='data-033f42b1-1324-4d9f-a08e-a8fc9bb87226' title='Show/Hide data repr'><svg class='icon xr-icon-database'><use xlink:href='#icon-database'></use></svg></label><div class='xr-var-attrs'><dl class='xr-attrs'><dt><span>long_name :</span></dt><dd>Longitude</dd><dt><span>standard_name :</span></dt><dd>longitude</dd><dt><span>units :</span></dt><dd>degrees_east</dd><dt><span>actual_range :</span></dt><dd>[1.25000e-01 3.59875e+02]</dd><dt><span>axis :</span></dt><dd>X</dd></dl></div><div class='xr-var-data'><pre>array([1.25000e-01, 3.75000e-01, 6.25000e-01, ..., 3.59375e+02, 3.59625e+02,\n       3.59875e+02], dtype=float32)</pre></div></li><li class='xr-var-item'><div class='xr-var-name'><span class='xr-has-index'>time</span></div><div class='xr-var-dims'>(time)</div><div class='xr-var-dtype'>object</div><div class='xr-var-preview xr-preview'>0001-01-01 00:00:00 ... 0001-12-...</div><input id='attrs-167f95e2-73fb-48f1-87f9-e5d4a16a618a' class='xr-var-attrs-in' type='checkbox' ><label for='attrs-167f95e2-73fb-48f1-87f9-e5d4a16a618a' title='Show/Hide attributes'><svg class='icon xr-icon-file-text2'><use xlink:href='#icon-file-text2'></use></svg></label><input id='data-26cfe524-1cc8-4066-8d7b-a2449046bad4' class='xr-var-data-in' type='checkbox'><label for='data-26cfe524-1cc8-4066-8d7b-a2449046bad4' title='Show/Hide data repr'><svg class='icon xr-icon-database'><use xlink:href='#icon-database'></use></svg></label><div class='xr-var-attrs'><dl class='xr-attrs'><dt><span>long_name :</span></dt><dd>Time</dd><dt><span>delta_t :</span></dt><dd>0000-01-00 00:00:00</dd><dt><span>avg_period :</span></dt><dd>0030-00-00 00:00:00</dd><dt><span>prev_avg_period :</span></dt><dd>0000-01-00 00:00:00</dd><dt><span>axis :</span></dt><dd>T</dd><dt><span>climatology :</span></dt><dd>climatology_bounds</dd><dt><span>climo_period :</span></dt><dd>1991/01/01 - 2020/12/31</dd><dt><span>actual_range :</span></dt><dd>[-657073. -656739.]</dd><dt><span>ltm_range :</span></dt><dd>[69761. 80688.]</dd><dt><span>interpreted_actual_range :</span></dt><dd>0001/01/01 00:00:00 - 0001/12/01 00:00:00</dd></dl></div><div class='xr-var-data'><pre>array([cftime.DatetimeGregorian(1, 1, 1, 0, 0, 0, 0, has_year_zero=False),\n       cftime.DatetimeGregorian(1, 2, 1, 0, 0, 0, 0, has_year_zero=False),\n       cftime.DatetimeGregorian(1, 3, 1, 0, 0, 0, 0, has_year_zero=False),\n       cftime.DatetimeGregorian(1, 4, 1, 0, 0, 0, 0, has_year_zero=False),\n       cftime.DatetimeGregorian(1, 5, 1, 0, 0, 0, 0, has_year_zero=False),\n       cftime.DatetimeGregorian(1, 6, 1, 0, 0, 0, 0, has_year_zero=False),\n       cftime.DatetimeGregorian(1, 7, 1, 0, 0, 0, 0, has_year_zero=False),\n       cftime.DatetimeGregorian(1, 8, 1, 0, 0, 0, 0, has_year_zero=False),\n       cftime.DatetimeGregorian(1, 9, 1, 0, 0, 0, 0, has_year_zero=False),\n       cftime.DatetimeGregorian(1, 10, 1, 0, 0, 0, 0, has_year_zero=False),\n       cftime.DatetimeGregorian(1, 11, 1, 0, 0, 0, 0, has_year_zero=False),\n       cftime.DatetimeGregorian(1, 12, 1, 0, 0, 0, 0, has_year_zero=False)],\n      dtype=object)</pre></div></li></ul></div></li><li class='xr-section-item'><input id='section-de8f9eea-4ed2-46b4-bf22-4939f1fe2554' class='xr-section-summary-in' type='checkbox'  checked><label for='section-de8f9eea-4ed2-46b4-bf22-4939f1fe2554' class='xr-section-summary' >Data variables: <span>(3)</span></label><div class='xr-section-inline-details'></div><div class='xr-section-details'><ul class='xr-var-list'><li class='xr-var-item'><div class='xr-var-name'><span>climatology_bounds</span></div><div class='xr-var-dims'>(time, nbnds)</div><div class='xr-var-dtype'>datetime64[ns]</div><div class='xr-var-preview xr-preview'>...</div><input id='attrs-12bb98ea-be89-4547-9636-c26a0041c8dc' class='xr-var-attrs-in' type='checkbox' ><label for='attrs-12bb98ea-be89-4547-9636-c26a0041c8dc' title='Show/Hide attributes'><svg class='icon xr-icon-file-text2'><use xlink:href='#icon-file-text2'></use></svg></label><input id='data-3b0a14dc-6006-4f16-9c7f-f0dbc4c7204f' class='xr-var-data-in' type='checkbox'><label for='data-3b0a14dc-6006-4f16-9c7f-f0dbc4c7204f' title='Show/Hide data repr'><svg class='icon xr-icon-database'><use xlink:href='#icon-database'></use></svg></label><div class='xr-var-attrs'><dl class='xr-attrs'><dt><span>long_name :</span></dt><dd>Climate Time Boundaries</dd></dl></div><div class='xr-var-data'><pre>[24 values with dtype=datetime64[ns]]</pre></div></li><li class='xr-var-item'><div class='xr-var-name'><span>sst</span></div><div class='xr-var-dims'>(time, lat, lon)</div><div class='xr-var-dtype'>float32</div><div class='xr-var-preview xr-preview'>...</div><input id='attrs-147d9b56-6e4e-4876-9abf-e9d32e13525e' class='xr-var-attrs-in' type='checkbox' ><label for='attrs-147d9b56-6e4e-4876-9abf-e9d32e13525e' title='Show/Hide attributes'><svg class='icon xr-icon-file-text2'><use xlink:href='#icon-file-text2'></use></svg></label><input id='data-12e07cb0-f283-499b-ace3-cb43b0ead54c' class='xr-var-data-in' type='checkbox'><label for='data-12e07cb0-f283-499b-ace3-cb43b0ead54c' title='Show/Hide data repr'><svg class='icon xr-icon-database'><use xlink:href='#icon-database'></use></svg></label><div class='xr-var-attrs'><dl class='xr-attrs'><dt><span>long_name :</span></dt><dd>Long Term Mean Monthly Mean of Sea Surface Temperature</dd><dt><span>units :</span></dt><dd>degC</dd><dt><span>valid_range :</span></dt><dd>[-3. 45.]</dd><dt><span>precision :</span></dt><dd>2.0</dd><dt><span>dataset :</span></dt><dd>NOAA High-resolution Blended Analysis</dd><dt><span>var_desc :</span></dt><dd>Sea Surface Temperature</dd><dt><span>level_desc :</span></dt><dd>Surface</dd><dt><span>statistic :</span></dt><dd>Long Term Mean</dd><dt><span>parent_stat :</span></dt><dd>Monthly Mean</dd><dt><span>standard_name :</span></dt><dd>sea_surface_temperature</dd><dt><span>actual_range :</span></dt><dd>[-1.7969891 34.213223 ]</dd></dl></div><div class='xr-var-data'><pre>[12441600 values with dtype=float32]</pre></div></li><li class='xr-var-item'><div class='xr-var-name'><span>valid_yr_count</span></div><div class='xr-var-dims'>(time, lat, lon)</div><div class='xr-var-dtype'>float32</div><div class='xr-var-preview xr-preview'>...</div><input id='attrs-3b2b3a9a-2c26-46c3-87f1-7e9ca5e28c1e' class='xr-var-attrs-in' type='checkbox' ><label for='attrs-3b2b3a9a-2c26-46c3-87f1-7e9ca5e28c1e' title='Show/Hide attributes'><svg class='icon xr-icon-file-text2'><use xlink:href='#icon-file-text2'></use></svg></label><input id='data-b63e527a-b956-4f08-90a1-a4e3fd616b18' class='xr-var-data-in' type='checkbox'><label for='data-b63e527a-b956-4f08-90a1-a4e3fd616b18' title='Show/Hide data repr'><svg class='icon xr-icon-database'><use xlink:href='#icon-database'></use></svg></label><div class='xr-var-attrs'><dl class='xr-attrs'><dt><span>long_name :</span></dt><dd>count of non-missing values used in mean</dd></dl></div><div class='xr-var-data'><pre>[12441600 values with dtype=float32]</pre></div></li></ul></div></li><li class='xr-section-item'><input id='section-6cd38ca0-16f2-47ac-9e68-d6bec5400e00' class='xr-section-summary-in' type='checkbox'  ><label for='section-6cd38ca0-16f2-47ac-9e68-d6bec5400e00' class='xr-section-summary' >Indexes: <span>(3)</span></label><div class='xr-section-inline-details'></div><div class='xr-section-details'><ul class='xr-var-list'><li class='xr-var-item'><div class='xr-index-name'><div>lat</div></div><div class='xr-index-preview'>PandasIndex</div><div></div><input id='index-a7e4b967-09d6-4e5d-be98-e7d68e642575' class='xr-index-data-in' type='checkbox'/><label for='index-a7e4b967-09d6-4e5d-be98-e7d68e642575' title='Show/Hide index repr'><svg class='icon xr-icon-database'><use xlink:href='#icon-database'></use></svg></label><div class='xr-index-data'><pre>PandasIndex(Index([-89.875, -89.625, -89.375, -89.125, -88.875, -88.625, -88.375, -88.125,\n       -87.875, -87.625,\n       ...\n        87.625,  87.875,  88.125,  88.375,  88.625,  88.875,  89.125,  89.375,\n        89.625,  89.875],\n      dtype=&#x27;float32&#x27;, name=&#x27;lat&#x27;, length=720))</pre></div></li><li class='xr-var-item'><div class='xr-index-name'><div>lon</div></div><div class='xr-index-preview'>PandasIndex</div><div></div><input id='index-cbef05a4-d11a-4610-9def-bb6f718f0a28' class='xr-index-data-in' type='checkbox'/><label for='index-cbef05a4-d11a-4610-9def-bb6f718f0a28' title='Show/Hide index repr'><svg class='icon xr-icon-database'><use xlink:href='#icon-database'></use></svg></label><div class='xr-index-data'><pre>PandasIndex(Index([  0.125,   0.375,   0.625,   0.875,   1.125,   1.375,   1.625,   1.875,\n         2.125,   2.375,\n       ...\n       357.625, 357.875, 358.125, 358.375, 358.625, 358.875, 359.125, 359.375,\n       359.625, 359.875],\n      dtype=&#x27;float32&#x27;, name=&#x27;lon&#x27;, length=1440))</pre></div></li><li class='xr-var-item'><div class='xr-index-name'><div>time</div></div><div class='xr-index-preview'>PandasIndex</div><div></div><input id='index-2420b2d3-af58-4ad2-b88a-5f41878756a7' class='xr-index-data-in' type='checkbox'/><label for='index-2420b2d3-af58-4ad2-b88a-5f41878756a7' title='Show/Hide index repr'><svg class='icon xr-icon-database'><use xlink:href='#icon-database'></use></svg></label><div class='xr-index-data'><pre>PandasIndex(CFTimeIndex([0001-01-01 00:00:00, 0001-02-01 00:00:00, 0001-03-01 00:00:00,\n             0001-04-01 00:00:00, 0001-05-01 00:00:00, 0001-06-01 00:00:00,\n             0001-07-01 00:00:00, 0001-08-01 00:00:00, 0001-09-01 00:00:00,\n             0001-10-01 00:00:00, 0001-11-01 00:00:00, 0001-12-01 00:00:00],\n            dtype=&#x27;object&#x27;, length=12, calendar=&#x27;standard&#x27;, freq=&#x27;MS&#x27;))</pre></div></li></ul></div></li><li class='xr-section-item'><input id='section-026d1f59-b72a-49fc-b9a2-c4b1e46aaee3' class='xr-section-summary-in' type='checkbox'  checked><label for='section-026d1f59-b72a-49fc-b9a2-c4b1e46aaee3' class='xr-section-summary' >Attributes: <span>(9)</span></label><div class='xr-section-inline-details'></div><div class='xr-section-details'><dl class='xr-attrs'><dt><span>Conventions :</span></dt><dd>CF-1.5</dd><dt><span>title :</span></dt><dd>NOAA/NCEI 1/4 Degree Daily Optimum Interpolation Sea Surface Temperature (OISST) Analysis, Version 2.1</dd><dt><span>institution :</span></dt><dd>NOAA/National Centers for Environmental Information</dd><dt><span>source :</span></dt><dd>NOAA/NCEI https://www.ncei.noaa.gov/data/sea-surface-temperature-optimum-interpolation/v2.1/access/avhrr/</dd><dt><span>References :</span></dt><dd>https://www.psl.noaa.gov/data/gridded/data.noaa.oisst.v2.highres.html</dd><dt><span>dataset_title :</span></dt><dd>NOAA Daily Optimum Interpolation Sea Surface Temperature</dd><dt><span>version :</span></dt><dd>Version 2.1</dd><dt><span>comment :</span></dt><dd>Reynolds, et al.(2007) Daily High-Resolution-Blended Analyses for Sea Surface Temperature (available at https://doi.org/10.1175/2007JCLI1824.1). Banzon, et al.(2016) A long-term record of blended satellite and in situ sea-surface temperature for climate monitoring, modeling and environmental studies (available at https://doi.org/10.5194/essd-8-165-2016). Huang, B., C. Liu, V. Banzon, E. Freeman, G. Graham, B. Hankins, T. Smith, and H.-M. Zhang, 2021: Improvements of the Daily Optimum Interpolation Sea Surface Temperature (DOISST) Version 2.1 (available at https://doi.org/10.1175/JCLI-D-20-0166.1). Anomaly is based on 1971-2000 OI.v2 SST. Satellite data: multi-satellite sensor (AVHRR+VIIRS) data. Ice data: NCEP Ice and GSFC Ice. Data less than 15 days old may be subject to revision.</dd><dt><span>not_missing_threshold_percent :</span></dt><dd>minimum 3% values input to have non-missing output value</dd></dl></div></li></ul></div></div>"
     },
     "execution_count": 4,
     "metadata": {},
     "output_type": "execute_result"
    }
   ],
   "source": [
    "ds"
   ],
   "metadata": {
    "collapsed": false,
    "ExecuteTime": {
     "end_time": "2024-12-05T19:08:05.183798Z",
     "start_time": "2024-12-05T19:08:04.860818Z"
    }
   },
   "id": "ceb424b9e828cb16"
  },
  {
   "cell_type": "code",
   "execution_count": 5,
   "outputs": [],
   "source": [
    "\n",
    "sst_surf = ds['sst']\n"
   ],
   "metadata": {
    "collapsed": false,
    "ExecuteTime": {
     "end_time": "2024-12-05T19:08:06.473215Z",
     "start_time": "2024-12-05T19:08:06.470747Z"
    }
   },
   "id": "42c9a02af5810444"
  },
  {
   "cell_type": "markdown",
   "source": [
    "# refer to https://zenodo.org/records/5944708\n",
    "\n",
    "https://scitools.org.uk/cartopy/docs/latest/tutorials/understanding_transform.html\n",
    "https://scitools.org.uk/cartopy/docs/v0.15/crs/projections.html\n",
    "https://rabernat.github.io/research_computing_2018/maps-with-cartopy.html"
   ],
   "metadata": {
    "collapsed": false
   },
   "id": "1d5b0549a454ac40"
  },
  {
   "cell_type": "markdown",
   "source": [
    "### Goal: create a loop to plot one parameter (e.g. surface_temp) in 12 months"
   ],
   "metadata": {
    "collapsed": false
   },
   "id": "1ba03853c8d1ab92"
  },
  {
   "cell_type": "code",
   "outputs": [],
   "source": [
    "\n",
    "fig = plt.figure(figsize = (8,10), dpi = 300)\n",
    "\n",
    "nrows, ncols = 4, 3\n",
    "\n",
    "extent = [-130, -122, 42, 52]\n",
    "\n",
    "central_lon = np.mean(extent[:2])\n",
    "\n",
    "month_list = ['Jan','Feb','Mar','Apr','May','Jun','Jul','Aug','Sep','Oct','Nov','Dec']\n",
    "\n",
    "# Create a list to store the plots\n",
    "plots = [] \n",
    "for n in range(1, 13):\n",
    "    # ax = plt.subplot(nrows, ncols, n, projection = ccrs.PlateCarree(central_longitude = central_lon))\n",
    "   \n",
    "    ax = fig.add_subplot(nrows, ncols, n, projection = ccrs.PlateCarree\n",
    "    (central_longitude = central_lon))\n",
    "    ax.set_extent(extent)\n",
    "    ax.add_feature(cp.feature.LAND, facecolor = 'lightgrey',edgecolor = 'black',linewidth=0.5)\n",
    "    ax.add_feature(cp.feature.RIVERS, facecolor = 'None',edgecolor = 'black',linewidth=0.5)\n",
    "    gl = ax.gridlines(draw_labels=True,linewidth=0.5, color='k',linestyle='--')\n",
    "    gl.top_labels = False\n",
    "    gl.right_labels = False\n",
    "    gl.xformatter = LONGITUDE_FORMATTER\n",
    "    gl.yformatter = LATITUDE_FORMATTER\n",
    "    gl.xlocator = mticker.FixedLocator([-129, -127, -125, -123])\n",
    "    gl.ylocator = mticker.FixedLocator([42, 44, 46, 48, 50, 52])\n",
    "    plot = sst_surf.isel(time = n-1).plot(ax=ax, x=\"lon\", y=\"lat\", cmap= temp_cmap, vmin=8, vmax=18,transform=ccrs.PlateCarree())\n",
    "    ax.set_title(month_list[n-1], size=12, weight='bold' )\n",
    "    cax = plot.get_figure().get_axes()[n]\n",
    "    cax.remove() \n",
    "    # Add a colorbar to the third subplot in each row\n",
    "    # Append each plot to the list\n",
    "    plots.append(plot)\n",
    "# for n in range(1, 13):\n",
    "#     if n % 3 == 0:\n",
    "#         print(f'{n}')\n",
    "#         cbar = plt.colorbar(plot, ax=fig.get_axes()[n-1], orientation='vertical', fraction=0.1, pad=0.05, aspect=16)\n",
    "#         cbar.set_label('Potential temperature ($^{o}C$)')       \n",
    "\n",
    "# set the spacing between subplots\n",
    "plt.subplots_adjust(left=0.01,\n",
    "                    bottom=0.05,\n",
    "                    right=0.90,\n",
    "                    top=0.97,\n",
    "                    wspace=0,\n",
    "                    hspace=0.25)\n",
    "\n",
    "# Create a subplot for the colorbar\n",
    "cbar_ax = fig.add_axes([0.90, 0.2, 0.02, 0.6])  # [x, y, width, height]\n",
    "# Create a single colorbar for all plots\n",
    "cbar = fig.colorbar(plots[0], cax=cbar_ax, orientation='vertical')\n",
    "cbar.set_label('Mean SST ($^{o}C$)', size =12)\n",
    "cbar.set_ticks(np.arange(8,18.01,2))\n",
    "\n",
    "plt.show()\n",
    "fig.savefig(out_dir/f'plot_surface_temp_climatology_monthly_1991_2020.png', dpi = 300)\n"
   ],
   "metadata": {
    "collapsed": false,
    "ExecuteTime": {
     "end_time": "2024-12-05T19:22:33.353626Z",
     "start_time": "2024-12-05T19:22:26.523368Z"
    }
   },
   "id": "60789ec9b34e60",
   "execution_count": 10
  },
  {
   "cell_type": "code",
   "execution_count": null,
   "outputs": [],
   "source": [],
   "metadata": {
    "collapsed": false,
    "is_executing": true
   },
   "id": "a4164dd472fff1f"
  }
 ],
 "metadata": {
  "kernelspec": {
   "display_name": "Python 3",
   "language": "python",
   "name": "python3"
  },
  "language_info": {
   "codemirror_mode": {
    "name": "ipython",
    "version": 2
   },
   "file_extension": ".py",
   "mimetype": "text/x-python",
   "name": "python",
   "nbconvert_exporter": "python",
   "pygments_lexer": "ipython2",
   "version": "2.7.6"
  }
 },
 "nbformat": 4,
 "nbformat_minor": 5
}
